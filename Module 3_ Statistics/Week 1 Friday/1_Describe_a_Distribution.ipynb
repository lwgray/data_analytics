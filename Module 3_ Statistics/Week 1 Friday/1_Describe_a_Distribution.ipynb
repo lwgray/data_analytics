{
 "cells": [
  {
   "cell_type": "markdown",
   "metadata": {},
   "source": [
    "## Describing a Distribution\n",
    "\n",
    "The goal of this notebook is to use the tools available in Python to describe the center, shape, and spread of a distribution."
   ]
  },
  {
   "cell_type": "code",
   "execution_count": null,
   "metadata": {},
   "outputs": [],
   "source": [
    "import numpy as np\n",
    "import pandas as pd"
   ]
  },
  {
   "cell_type": "markdown",
   "metadata": {},
   "source": [
    "First you will generate a sample of 100 values using NumPy's random number generator. To ensure that everyone gets the same results every time, we will use 2 as the seed for the random number generator."
   ]
  },
  {
   "cell_type": "code",
   "execution_count": null,
   "metadata": {},
   "outputs": [],
   "source": [
    "n = 100\n",
    "np.random.seed(2)\n",
    "normal_sample = pd.DataFrame(np.random.normal(size=(n,1)))\n",
    "normal_sample.head()"
   ]
  },
  {
   "cell_type": "markdown",
   "metadata": {},
   "source": [
    "## Center and Spread"
   ]
  },
  {
   "cell_type": "markdown",
   "metadata": {},
   "source": [
    "In order to describe the center and spread, we can either calculate the mean and standard deviation, or the median and IQR. Let's do the mean and stdev. first as that is more straightforward."
   ]
  },
  {
   "cell_type": "markdown",
   "metadata": {},
   "source": [
    "### Mean & Standard Deviation"
   ]
  },
  {
   "cell_type": "code",
   "execution_count": null,
   "metadata": {},
   "outputs": [],
   "source": [
    "mean = normal_sample.mean()\n",
    "std = normal_sample.std()\n",
    "print(mean)\n",
    "print(std)"
   ]
  },
  {
   "cell_type": "markdown",
   "metadata": {},
   "source": [
    "Let's extract the values from the results and print them using formatting:"
   ]
  },
  {
   "cell_type": "code",
   "execution_count": null,
   "metadata": {},
   "outputs": [],
   "source": [
    "mean = mean[0]\n",
    "std = std[0]\n",
    "print(f\"Mean = {mean:.3f}, Standard Deviation = {std:.3f}\")"
   ]
  },
  {
   "cell_type": "markdown",
   "metadata": {},
   "source": [
    "### Median and IQR"
   ]
  },
  {
   "cell_type": "markdown",
   "metadata": {},
   "source": [
    "Pandas doesn't have a function to get IQR directly, but it does have a quantile function that you can pass in the desired percentile (like .25 for Q1), and it will return the value at that location. We will use that to identify Q1 and Q3, and then find the difference to get the IQR."
   ]
  },
  {
   "cell_type": "code",
   "execution_count": null,
   "metadata": {
    "scrolled": true
   },
   "outputs": [],
   "source": [
    "median = normal_sample.median()[0]\n",
    "Q1 = normal_sample.quantile(q=.25)[0]\n",
    "Q3 = normal_sample.quantile(q=.75)[0]\n",
    "IQR = Q3 - Q1\n",
    "\n",
    "print(f\"Median = {median:.3f}, Interquartile Range = {IQR:.3f}\")"
   ]
  },
  {
   "cell_type": "markdown",
   "metadata": {},
   "source": [
    "## Shape and Outliers\n",
    "\n",
    "The easiest way to describe the shape of a distribution is by visualizing it, so we will generate a quick histogram, and a boxplot to see if there are any outliers."
   ]
  },
  {
   "cell_type": "code",
   "execution_count": null,
   "metadata": {
    "scrolled": true
   },
   "outputs": [],
   "source": [
    "normal_sample.hist(bins=10)"
   ]
  },
  {
   "cell_type": "code",
   "execution_count": null,
   "metadata": {},
   "outputs": [],
   "source": [
    "normal_sample.boxplot(vert=False)"
   ]
  },
  {
   "cell_type": "markdown",
   "metadata": {},
   "source": [
    "## Conclusion\n",
    "\n",
    "Now that we have identified the center, shape, and spread, we should write up a quick conclusion:"
   ]
  },
  {
   "cell_type": "markdown",
   "metadata": {},
   "source": [
    "The center and spread of this distribution are a mean of -0.104 and a standard deviation of 1.042. The shape is roughly symmetric, and bell-shaped. There is one outlier at approximately -2.8."
   ]
  },
  {
   "cell_type": "code",
   "execution_count": null,
   "metadata": {},
   "outputs": [],
   "source": []
  }
 ],
 "metadata": {
  "kernelspec": {
   "display_name": "xbus",
   "language": "python",
   "name": "xbus"
  },
  "language_info": {
   "codemirror_mode": {
    "name": "ipython",
    "version": 3
   },
   "file_extension": ".py",
   "mimetype": "text/x-python",
   "name": "python",
   "nbconvert_exporter": "python",
   "pygments_lexer": "ipython3",
   "version": "3.6.1"
  }
 },
 "nbformat": 4,
 "nbformat_minor": 2
}
