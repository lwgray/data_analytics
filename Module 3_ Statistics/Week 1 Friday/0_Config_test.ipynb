{
 "cells": [
  {
   "cell_type": "markdown",
   "metadata": {},
   "source": [
    "## Test Your Python Configuration\n",
    "Run the following 3 cells. If you don't get any error messages and the last cell draws a chart, everything is working correctly."
   ]
  },
  {
   "cell_type": "code",
   "execution_count": null,
   "metadata": {},
   "outputs": [],
   "source": [
    "from platform import python_version\n",
    "version = python_version()\n",
    "if version.startswith('3'):\n",
    "    print(f\"Your Python version is {version}, that is good.\")\n",
    "else:\n",
    "    print(\"Your Python version is %s, you must be running Python 3.\" % version)"
   ]
  },
  {
   "cell_type": "code",
   "execution_count": null,
   "metadata": {},
   "outputs": [],
   "source": [
    "try:\n",
    "    import matplotlib\n",
    "    import numpy\n",
    "    import pandas\n",
    "    import scipy\n",
    "    import seaborn\n",
    "    import statsmodels\n",
    "    print(\"Your libraries loaded succesfully.\")\n",
    "except ModuleNotFoundError as e:\n",
    "    print(f\"You are missing the {e.name} package\")\n",
    "    \n",
    "# This line tells matplotlib to display graphs/images in the notebook\n",
    "%matplotlib inline\n",
    "\n",
    "# If you have a Mac or other high-res display you can include this:\n",
    "%config InlineBackend.figure_format = 'retina'"
   ]
  },
  {
   "cell_type": "code",
   "execution_count": null,
   "metadata": {},
   "outputs": [],
   "source": [
    "# This cell randomly generates 100 numbers and makes a histogram\n",
    "matplotlib.pyplot.hist(numpy.random.randn(100))\n",
    "matplotlib.pyplot.show()"
   ]
  },
  {
   "cell_type": "code",
   "execution_count": null,
   "metadata": {},
   "outputs": [],
   "source": []
  }
 ],
 "metadata": {
  "kernelspec": {
   "display_name": "xbus",
   "language": "python",
   "name": "xbus"
  },
  "language_info": {
   "codemirror_mode": {
    "name": "ipython",
    "version": 3
   },
   "file_extension": ".py",
   "mimetype": "text/x-python",
   "name": "python",
   "nbconvert_exporter": "python",
   "pygments_lexer": "ipython3",
   "version": "3.6.1"
  }
 },
 "nbformat": 4,
 "nbformat_minor": 2
}
