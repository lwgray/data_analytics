{
 "cells": [
  {
   "cell_type": "markdown",
   "metadata": {},
   "source": [
    "## Solution\n",
    "Note that this is not the only way, or the best way to complete this lab. It is intended to demonstrate different Python tools and syntax, so if there is anything that you cannot comprehend be sure to ask for explanation."
   ]
  },
  {
   "cell_type": "markdown",
   "metadata": {},
   "source": [
    "## Correlation, Regression, and Residuals Lab\n",
    "\n",
    "In this lab, you will describe and model the relationship between independent and dependent variables, use your model to make predictions, and evaluate the appropriateness of your model. This notebook is constructed using Markdown cells for narrative and code cells to provide reproducible supporting evidence. When you have completed the notebook it will serve as a deliverable report.\n",
    "\n",
    "To begin, a dataset is created for you that contains hypothetical data about an unemployment rate and a stock index price."
   ]
  },
  {
   "cell_type": "code",
   "execution_count": 1,
   "metadata": {},
   "outputs": [],
   "source": [
    "# Import all of your required libraries here as needed\n",
    "import pandas as pd\n",
    "\n",
    "from scipy import stats\n",
    "import seaborn as sns\n",
    "\n",
    "%config InlineBackend.figure_format = 'retina'"
   ]
  },
  {
   "cell_type": "code",
   "execution_count": 2,
   "metadata": {},
   "outputs": [
    {
     "data": {
      "text/html": [
       "<div>\n",
       "<style scoped>\n",
       "    .dataframe tbody tr th:only-of-type {\n",
       "        vertical-align: middle;\n",
       "    }\n",
       "\n",
       "    .dataframe tbody tr th {\n",
       "        vertical-align: top;\n",
       "    }\n",
       "\n",
       "    .dataframe thead th {\n",
       "        text-align: right;\n",
       "    }\n",
       "</style>\n",
       "<table border=\"1\" class=\"dataframe\">\n",
       "  <thead>\n",
       "    <tr style=\"text-align: right;\">\n",
       "      <th></th>\n",
       "      <th>Year</th>\n",
       "      <th>Month</th>\n",
       "      <th>Unemployment_Rate</th>\n",
       "      <th>Stock_Index_Price</th>\n",
       "    </tr>\n",
       "  </thead>\n",
       "  <tbody>\n",
       "    <tr>\n",
       "      <th>0</th>\n",
       "      <td>2017</td>\n",
       "      <td>12</td>\n",
       "      <td>5.3</td>\n",
       "      <td>1464</td>\n",
       "    </tr>\n",
       "    <tr>\n",
       "      <th>1</th>\n",
       "      <td>2017</td>\n",
       "      <td>11</td>\n",
       "      <td>5.3</td>\n",
       "      <td>1394</td>\n",
       "    </tr>\n",
       "    <tr>\n",
       "      <th>2</th>\n",
       "      <td>2017</td>\n",
       "      <td>10</td>\n",
       "      <td>5.3</td>\n",
       "      <td>1357</td>\n",
       "    </tr>\n",
       "    <tr>\n",
       "      <th>3</th>\n",
       "      <td>2017</td>\n",
       "      <td>9</td>\n",
       "      <td>5.3</td>\n",
       "      <td>1293</td>\n",
       "    </tr>\n",
       "    <tr>\n",
       "      <th>4</th>\n",
       "      <td>2017</td>\n",
       "      <td>8</td>\n",
       "      <td>5.4</td>\n",
       "      <td>1256</td>\n",
       "    </tr>\n",
       "    <tr>\n",
       "      <th>5</th>\n",
       "      <td>2017</td>\n",
       "      <td>7</td>\n",
       "      <td>5.6</td>\n",
       "      <td>1254</td>\n",
       "    </tr>\n",
       "    <tr>\n",
       "      <th>6</th>\n",
       "      <td>2017</td>\n",
       "      <td>6</td>\n",
       "      <td>5.5</td>\n",
       "      <td>1234</td>\n",
       "    </tr>\n",
       "    <tr>\n",
       "      <th>7</th>\n",
       "      <td>2017</td>\n",
       "      <td>5</td>\n",
       "      <td>5.5</td>\n",
       "      <td>1195</td>\n",
       "    </tr>\n",
       "    <tr>\n",
       "      <th>8</th>\n",
       "      <td>2017</td>\n",
       "      <td>4</td>\n",
       "      <td>5.5</td>\n",
       "      <td>1159</td>\n",
       "    </tr>\n",
       "    <tr>\n",
       "      <th>9</th>\n",
       "      <td>2017</td>\n",
       "      <td>3</td>\n",
       "      <td>5.6</td>\n",
       "      <td>1167</td>\n",
       "    </tr>\n",
       "    <tr>\n",
       "      <th>10</th>\n",
       "      <td>2017</td>\n",
       "      <td>2</td>\n",
       "      <td>5.7</td>\n",
       "      <td>1130</td>\n",
       "    </tr>\n",
       "    <tr>\n",
       "      <th>11</th>\n",
       "      <td>2017</td>\n",
       "      <td>1</td>\n",
       "      <td>5.9</td>\n",
       "      <td>1075</td>\n",
       "    </tr>\n",
       "    <tr>\n",
       "      <th>12</th>\n",
       "      <td>2016</td>\n",
       "      <td>12</td>\n",
       "      <td>6.0</td>\n",
       "      <td>1047</td>\n",
       "    </tr>\n",
       "    <tr>\n",
       "      <th>13</th>\n",
       "      <td>2016</td>\n",
       "      <td>11</td>\n",
       "      <td>5.9</td>\n",
       "      <td>965</td>\n",
       "    </tr>\n",
       "    <tr>\n",
       "      <th>14</th>\n",
       "      <td>2016</td>\n",
       "      <td>10</td>\n",
       "      <td>5.8</td>\n",
       "      <td>943</td>\n",
       "    </tr>\n",
       "    <tr>\n",
       "      <th>15</th>\n",
       "      <td>2016</td>\n",
       "      <td>9</td>\n",
       "      <td>6.1</td>\n",
       "      <td>958</td>\n",
       "    </tr>\n",
       "    <tr>\n",
       "      <th>16</th>\n",
       "      <td>2016</td>\n",
       "      <td>8</td>\n",
       "      <td>6.2</td>\n",
       "      <td>971</td>\n",
       "    </tr>\n",
       "    <tr>\n",
       "      <th>17</th>\n",
       "      <td>2016</td>\n",
       "      <td>7</td>\n",
       "      <td>6.1</td>\n",
       "      <td>949</td>\n",
       "    </tr>\n",
       "    <tr>\n",
       "      <th>18</th>\n",
       "      <td>2016</td>\n",
       "      <td>6</td>\n",
       "      <td>6.1</td>\n",
       "      <td>884</td>\n",
       "    </tr>\n",
       "    <tr>\n",
       "      <th>19</th>\n",
       "      <td>2016</td>\n",
       "      <td>5</td>\n",
       "      <td>6.1</td>\n",
       "      <td>866</td>\n",
       "    </tr>\n",
       "    <tr>\n",
       "      <th>20</th>\n",
       "      <td>2016</td>\n",
       "      <td>4</td>\n",
       "      <td>5.9</td>\n",
       "      <td>876</td>\n",
       "    </tr>\n",
       "    <tr>\n",
       "      <th>21</th>\n",
       "      <td>2016</td>\n",
       "      <td>3</td>\n",
       "      <td>6.2</td>\n",
       "      <td>822</td>\n",
       "    </tr>\n",
       "    <tr>\n",
       "      <th>22</th>\n",
       "      <td>2016</td>\n",
       "      <td>2</td>\n",
       "      <td>6.2</td>\n",
       "      <td>704</td>\n",
       "    </tr>\n",
       "    <tr>\n",
       "      <th>23</th>\n",
       "      <td>2016</td>\n",
       "      <td>1</td>\n",
       "      <td>6.1</td>\n",
       "      <td>719</td>\n",
       "    </tr>\n",
       "  </tbody>\n",
       "</table>\n",
       "</div>"
      ],
      "text/plain": [
       "    Year  Month  Unemployment_Rate  Stock_Index_Price\n",
       "0   2017     12                5.3               1464\n",
       "1   2017     11                5.3               1394\n",
       "2   2017     10                5.3               1357\n",
       "3   2017      9                5.3               1293\n",
       "4   2017      8                5.4               1256\n",
       "5   2017      7                5.6               1254\n",
       "6   2017      6                5.5               1234\n",
       "7   2017      5                5.5               1195\n",
       "8   2017      4                5.5               1159\n",
       "9   2017      3                5.6               1167\n",
       "10  2017      2                5.7               1130\n",
       "11  2017      1                5.9               1075\n",
       "12  2016     12                6.0               1047\n",
       "13  2016     11                5.9                965\n",
       "14  2016     10                5.8                943\n",
       "15  2016      9                6.1                958\n",
       "16  2016      8                6.2                971\n",
       "17  2016      7                6.1                949\n",
       "18  2016      6                6.1                884\n",
       "19  2016      5                6.1                866\n",
       "20  2016      4                5.9                876\n",
       "21  2016      3                6.2                822\n",
       "22  2016      2                6.2                704\n",
       "23  2016      1                6.1                719"
      ]
     },
     "execution_count": 2,
     "metadata": {},
     "output_type": "execute_result"
    }
   ],
   "source": [
    "Stock_Market = {'Year': [2017,2017,2017,2017,2017,2017,2017,2017,2017,2017,2017,2017,2016,2016,2016,2016,2016,2016,2016,2016,2016,2016,2016,2016],\n",
    "                'Month': [12, 11,10,9,8,7,6,5,4,3,2,1,12,11,10,9,8,7,6,5,4,3,2,1],\n",
    "                'Unemployment_Rate': [5.3,5.3,5.3,5.3,5.4,5.6,5.5,5.5,5.5,5.6,5.7,5.9,6,5.9,5.8,6.1,6.2,6.1,6.1,6.1,5.9,6.2,6.2,6.1],\n",
    "                'Stock_Index_Price': [1464,1394,1357,1293,1256,1254,1234,1195,1159,1167,1130,1075,1047,965,943,958,971,949,884,866,876,822,704,719]        \n",
    "                }\n",
    "\n",
    "df = pd.DataFrame(Stock_Market,columns=['Year','Month','Unemployment_Rate','Stock_Index_Price']) \n",
    "\n",
    "df"
   ]
  },
  {
   "cell_type": "markdown",
   "metadata": {},
   "source": [
    "First, model the relationship between unemployment rate and stock index price using OLS regression."
   ]
  },
  {
   "cell_type": "code",
   "execution_count": 3,
   "metadata": {},
   "outputs": [
    {
     "name": "stdout",
     "output_type": "stream",
     "text": [
      "Given that y is Stock Index Price, and x is Unemployment Rate:\n",
      "The equation of the LSRL is y = -588.96 * x + 4471.34\n"
     ]
    }
   ],
   "source": [
    "# Calculate the OLS regression equation and print it in a readable format.\n",
    "\n",
    "# Because linregress returns a tuple, we can extract the values using tuple unpacking\n",
    "# https://www.tutorialspoint.com/unpacking-a-tuple-in-python\n",
    "\n",
    "# We use the underscore _ when we need a variable but don't actually care about keeping it\n",
    "# Because lingress returns 5 values but we only need the first 3, I use _ to drop the last 2 values\n",
    "\n",
    "(slope, intercept, rvalue, _, _) = stats.linregress(x=df['Unemployment_Rate'], y=df['Stock_Index_Price'])\n",
    "print(\"Given that y is Stock Index Price, and x is Unemployment Rate:\")\n",
    "print(f\"The equation of the LSRL is y = {slope:.2f} * x + {intercept:.2f}\")"
   ]
  },
  {
   "cell_type": "markdown",
   "metadata": {},
   "source": [
    "Then show the correlation coefficient and coefficient of determination."
   ]
  },
  {
   "cell_type": "code",
   "execution_count": 4,
   "metadata": {},
   "outputs": [
    {
     "name": "stdout",
     "output_type": "stream",
     "text": [
      "This regression line has a correlation coefficient (r) of -0.922,\n",
      "and a coefficient of determination (r-squared) of 0.851.\n"
     ]
    }
   ],
   "source": [
    "# Calculate (if necessary) and print in a readable format R and R-squared.\n",
    "print(f\"This regression line has a correlation coefficient (r) of {rvalue:.3f},\")\n",
    "\n",
    "# In Python double-asterisk is the exponent operator\n",
    "# Here I'm squaring rvalue inside the f-string. \n",
    "# You can also do it separately, e.g.: rsquared = rvalue ** 2\n",
    "print(f\"and a coefficient of determination (r-squared) of {rvalue ** 2:.3f}.\")"
   ]
  },
  {
   "cell_type": "markdown",
   "metadata": {},
   "source": [
    "Next, explain in plain language how to interpret the relationship between unemployment rate and stock index price, as well as the correlation coefficient. "
   ]
  },
  {
   "cell_type": "markdown",
   "metadata": {},
   "source": [
    "__Answer:__\n",
    "\n",
    "We predict the Stock Index Price to be \\\\$4471.34 minus \\\\$588.96 for each additional percentage point in the unemployment rate.\n",
    "\n",
    "The correlation coefficient -0.922 tells us that there is a strong, negative linear relationship between stock index price and unemployment rate.\n",
    "\n",
    "(Optional) The coefficient of determination tells us that 85.1% of the variation in stock index price is caused by changes to the unemployment rate (the other 14.9% of variation in stock index price is unexplained at this time).\n",
    "\n",
    "=========="
   ]
  },
  {
   "cell_type": "markdown",
   "metadata": {},
   "source": [
    "Use your model to make predictions about the stock index price if the unemployment rate is 5%, 6%, or 10%."
   ]
  },
  {
   "cell_type": "code",
   "execution_count": 5,
   "metadata": {},
   "outputs": [
    {
     "name": "stdout",
     "output_type": "stream",
     "text": [
      "When the unemployment rate is 5%, the predicted stock index price is $1526.53.\n",
      "When the unemployment rate is 6%, the predicted stock index price is $937.57.\n",
      "When the unemployment rate is 10%, the predicted stock index price is $-1418.28.\n"
     ]
    }
   ],
   "source": [
    "# Predict stock index price here. Output should be in human-readable format.\n",
    "rates = [5, 6, 10]\n",
    "\n",
    "for rate in rates:\n",
    "    prediction = slope * rate + intercept\n",
    "    print(f\"When the unemployment rate is {rate}%, the predicted stock index price is ${prediction:.2f}.\")"
   ]
  },
  {
   "cell_type": "markdown",
   "metadata": {},
   "source": [
    "Do you have confidence in these predictions? Explain why or why not."
   ]
  },
  {
   "cell_type": "markdown",
   "metadata": {},
   "source": [
    "__Answer:__\n",
    "\n",
    "I am confident in the prediction for 6% because the original unemployment rates used to create the regression line range from 5.3 and 6.2, and there was strong correlation, so we should feel confident for predictions within that range. I am less confident for my prediction at 5%, because it is outside the range of our original data, but not extremely so. I have little confidence in the prediction for 10%, not only is it extrapolation, it is also not possible to have a negative stock price.\n",
    "\n",
    "==========="
   ]
  },
  {
   "cell_type": "markdown",
   "metadata": {},
   "source": [
    "Now construct a visualization of the correlation and regression."
   ]
  },
  {
   "cell_type": "code",
   "execution_count": 6,
   "metadata": {},
   "outputs": [
    {
     "data": {
      "text/plain": [
       "<AxesSubplot:xlabel='Unemployment_Rate', ylabel='Stock_Index_Price'>"
      ]
     },
     "execution_count": 6,
     "metadata": {},
     "output_type": "execute_result"
    },
    {
     "data": {
      "image/png": "[encoded data removed]",
      "text/plain": [
       "<Figure size 432x288 with 1 Axes>"
      ]
     },
     "metadata": {
      "image/png": {
       "height": 265,
       "width": 403
      },
      "needs_background": "light"
     },
     "output_type": "display_data"
    }
   ],
   "source": [
    "# Display a scatterplot with regression line.\n",
    "sns.regplot(x='Unemployment_Rate', y='Stock_Index_Price', data=df, ci=False)"
   ]
  },
  {
   "cell_type": "markdown",
   "metadata": {},
   "source": [
    "Also construct a residual plot."
   ]
  },
  {
   "cell_type": "code",
   "execution_count": 7,
   "metadata": {},
   "outputs": [
    {
     "data": {
      "text/plain": [
       "<AxesSubplot:xlabel='Unemployment_Rate', ylabel='Stock_Index_Price'>"
      ]
     },
     "execution_count": 7,
     "metadata": {},
     "output_type": "execute_result"
    },
    {
     "data": {
      "image/png": "[encoded data removed]",
      "text/plain": [
       "<Figure size 432x288 with 1 Axes>"
      ]
     },
     "metadata": {
      "image/png": {
       "height": 262,
       "width": 397
      },
      "needs_background": "light"
     },
     "output_type": "display_data"
    }
   ],
   "source": [
    "# Display a residual plot.\n",
    "sns.residplot(x='Unemployment_Rate', y='Stock_Index_Price', data=df)"
   ]
  },
  {
   "cell_type": "markdown",
   "metadata": {},
   "source": [
    "Evaluate your model using the correlation coefficient and the residual plot."
   ]
  },
  {
   "cell_type": "markdown",
   "metadata": {},
   "source": [
    "__Answer:__\n",
    "\n",
    "Because the correlation coefficient was close to -1 (indicating a strong linear relationship), and there is no clear pattern on the residual plot, I feel that this linear model is appropriate, and we can feel confident in the predictions made with it."
   ]
  },
  {
   "cell_type": "code",
   "execution_count": null,
   "metadata": {},
   "outputs": [],
   "source": []
  }
 ],
 "metadata": {
  "kernelspec": {
   "display_name": "xbus",
   "language": "python",
   "name": "xbus"
  },
  "language_info": {
   "codemirror_mode": {
    "name": "ipython",
    "version": 3
   },
   "file_extension": ".py",
   "mimetype": "text/x-python",
   "name": "python",
   "nbconvert_exporter": "python",
   "pygments_lexer": "ipython3",
   "version": "3.6.1"
  }
 },
 "nbformat": 4,
 "nbformat_minor": 2
}
