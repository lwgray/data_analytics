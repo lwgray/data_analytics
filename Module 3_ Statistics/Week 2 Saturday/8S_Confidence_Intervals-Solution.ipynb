{
 "cells": [
  {
   "cell_type": "markdown",
   "metadata": {},
   "source": [
    "## Confidence Intervals\n",
    "\n",
    "The goal of this notebook is for the student to be able to construct and interpret confidence intervals using the  StatsModels library."
   ]
  },
  {
   "cell_type": "code",
   "execution_count": 1,
   "metadata": {},
   "outputs": [],
   "source": [
    "import scipy\n",
    "import numpy as np\n",
    "import matplotlib.pyplot as plt\n",
    "\n",
    "%config InlineBackend.figure_format = 'retina'"
   ]
  },
  {
   "cell_type": "markdown",
   "metadata": {},
   "source": [
    "### Confidence Interval for $\\mu$:\n",
    "A bottle-filling machine is set to dispense 12.1 fluid ounces into juice bottles. To ensure that the machine is\n",
    "filling accurately, every hour a worker randomly selects 15 bottles filled by the machine during the past hour\n",
    "and measures the contents. If there is convincing evidence that the mean amount of juice dispensed is different\n",
    "from 12.1 ounces or if there is convincing evidence that the standard deviation is greater than 0.05 ounce, the\n",
    "machine is shut down for recalibration. It can be assumed that the amount of juice that is dispensed into bottles\n",
    "is normally distributed.\n",
    "\n",
    "During one hour, the number of fluid ounces of 15 randomly selected bottles was recorded below.\n",
    "\n",
    "Construct a 95% confidence interval for the mean amount of juice dispensed by this machine during this hour."
   ]
  },
  {
   "cell_type": "code",
   "execution_count": 2,
   "metadata": {},
   "outputs": [],
   "source": [
    "bottle_sample = [12.33, 11.58, 12.14, 12.13, 11.96, 12.42, 12.0, 11.96, 11.73, 11.94, 11.74, 11.94, 11.66, 11.64, 11.94]"
   ]
  },
  {
   "cell_type": "markdown",
   "metadata": {},
   "source": [
    "Calculate the T test statistic and the p-value needed for the t-test of significance. You can accomplish this however you like, but it is recommended you use the following method:\n",
    "\n",
    "`statsmodels.stats.weightstats.DescrStatsW` (to use this method, run `from statsmodels.stats.weightstats import DescrStatsW` and call the method `DescrStatsW()`)\n",
    "\n",
    "Save the bounds of the interval as a tuple to the variable `conf_int`."
   ]
  },
  {
   "cell_type": "code",
   "execution_count": 3,
   "metadata": {},
   "outputs": [
    {
     "name": "stdout",
     "output_type": "stream",
     "text": [
      "The confidence interval is (11.804607816653037, 12.076725516680296)\n"
     ]
    }
   ],
   "source": [
    "from statsmodels.stats.weightstats import DescrStatsW\n",
    "result = DescrStatsW(bottle_sample)\n",
    "conf_int = result.tconfint_mean(.05)\n",
    "print(f\"The confidence interval is {conf_int}\")"
   ]
  },
  {
   "cell_type": "markdown",
   "metadata": {},
   "source": [
    "What conclusion would you make about the interval?\n",
    "Be sure to use the context of the question in stating your conclusions!"
   ]
  },
  {
   "cell_type": "markdown",
   "metadata": {},
   "source": [
    "__Answer:__\n",
    "\n",
    "We are 95% confident that the true mean bottle fill for the machine during this hour is between 11.80 and 12.08oz."
   ]
  },
  {
   "cell_type": "code",
   "execution_count": null,
   "metadata": {},
   "outputs": [],
   "source": []
  }
 ],
 "metadata": {
  "kernelspec": {
   "display_name": "xbus",
   "language": "python",
   "name": "xbus"
  },
  "language_info": {
   "codemirror_mode": {
    "name": "ipython",
    "version": 3
   },
   "file_extension": ".py",
   "mimetype": "text/x-python",
   "name": "python",
   "nbconvert_exporter": "python",
   "pygments_lexer": "ipython3",
   "version": "3.6.1"
  }
 },
 "nbformat": 4,
 "nbformat_minor": 2
}
