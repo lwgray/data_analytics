{
 "cells": [
  {
   "cell_type": "markdown",
   "metadata": {},
   "source": [
    "# Week4_GradedLab\n",
    "## Read Data"
   ]
  },
  {
   "cell_type": "code",
   "execution_count": 10,
   "metadata": {
    "tags": []
   },
   "outputs": [
    {
     "data": {
      "text/html": [
       "<div>\n",
       "<style scoped>\n",
       "    .dataframe tbody tr th:only-of-type {\n",
       "        vertical-align: middle;\n",
       "    }\n",
       "\n",
       "    .dataframe tbody tr th {\n",
       "        vertical-align: top;\n",
       "    }\n",
       "\n",
       "    .dataframe thead th {\n",
       "        text-align: right;\n",
       "    }\n",
       "</style>\n",
       "<table border=\"1\" class=\"dataframe\">\n",
       "  <thead>\n",
       "    <tr style=\"text-align: right;\">\n",
       "      <th></th>\n",
       "      <th>name</th>\n",
       "      <th>age</th>\n",
       "      <th>gender</th>\n",
       "      <th>user_name</th>\n",
       "      <th>monster_card</th>\n",
       "      <th>monster_description</th>\n",
       "      <th>price</th>\n",
       "    </tr>\n",
       "  </thead>\n",
       "  <tbody>\n",
       "    <tr>\n",
       "      <th>0</th>\n",
       "      <td>Katherine</td>\n",
       "      <td>59</td>\n",
       "      <td>female</td>\n",
       "      <td>zachary04</td>\n",
       "      <td>tyrannosaurus-rex</td>\n",
       "      <td>humanoid (any race)</td>\n",
       "      <td>18.31</td>\n",
       "    </tr>\n",
       "    <tr>\n",
       "      <th>1</th>\n",
       "      <td>Kimberly</td>\n",
       "      <td>77</td>\n",
       "      <td>female</td>\n",
       "      <td>hatfieldallen</td>\n",
       "      <td>spy</td>\n",
       "      <td>fey</td>\n",
       "      <td>15.56</td>\n",
       "    </tr>\n",
       "    <tr>\n",
       "      <th>2</th>\n",
       "      <td>Bonnie</td>\n",
       "      <td>33</td>\n",
       "      <td>female</td>\n",
       "      <td>christopher53</td>\n",
       "      <td>tyrannosaurus-rex</td>\n",
       "      <td>dragon</td>\n",
       "      <td>7.58</td>\n",
       "    </tr>\n",
       "    <tr>\n",
       "      <th>3</th>\n",
       "      <td>Patricia</td>\n",
       "      <td>64</td>\n",
       "      <td>female</td>\n",
       "      <td>kristinle</td>\n",
       "      <td>werewolf</td>\n",
       "      <td>fey</td>\n",
       "      <td>4.48</td>\n",
       "    </tr>\n",
       "    <tr>\n",
       "      <th>4</th>\n",
       "      <td>Cynthia</td>\n",
       "      <td>17</td>\n",
       "      <td>female</td>\n",
       "      <td>ecrosby</td>\n",
       "      <td>giant-constrictor-snake</td>\n",
       "      <td>humanoid (orc)</td>\n",
       "      <td>17.73</td>\n",
       "    </tr>\n",
       "  </tbody>\n",
       "</table>\n",
       "</div>"
      ],
      "text/plain": [
       "        name  age  gender      user_name             monster_card  \\\n",
       "0  Katherine   59  female      zachary04        tyrannosaurus-rex   \n",
       "1   Kimberly   77  female  hatfieldallen                      spy   \n",
       "2     Bonnie   33  female  christopher53        tyrannosaurus-rex   \n",
       "3   Patricia   64  female      kristinle                 werewolf   \n",
       "4    Cynthia   17  female        ecrosby  giant-constrictor-snake   \n",
       "\n",
       "   monster_description  price  \n",
       "0  humanoid (any race)  18.31  \n",
       "1                  fey  15.56  \n",
       "2               dragon   7.58  \n",
       "3                  fey   4.48  \n",
       "4       humanoid (orc)  17.73  "
      ]
     },
     "execution_count": 10,
     "metadata": {},
     "output_type": "execute_result"
    }
   ],
   "source": [
    "# I have provided you with the code to read the Data\n",
    "import pandas as pd\n",
    "mtc = pd.read_csv('monster_trading_cards.csv')\n",
    "mtc.head()"
   ]
  },
  {
   "cell_type": "markdown",
   "metadata": {},
   "source": [
    "# Top Spenders\n",
    "## Identify the top 5 spenders in the game by total purchase value, and provide the following info on each player.\n",
    "* user_name\n",
    "* Purchase count\n",
    "* Average Purchase Price\n",
    "* Total Purchase Value\n",
    "\n",
    "# Most Popular Items\n",
    "\n",
    "## Identify the most popular `monster card` by purchase count, then list (in a table):\n",
    "  * monster card\n",
    "  * Purchase Count\n",
    "  * Average Item Price\n",
    "  * Total Purchase Value\n",
    "  * The max price paid for this card\n",
    "  * The min price paid for this card\n",
    "\n",
    "# Most Profitable Items\n",
    "\n",
    "## Identify the most profitable items by total purchase value, then list (in a table):\n",
    "  * Item Name\n",
    "  * Purchase Count\n",
    "  * Average Item Price\n",
    "  * Total Purchase Value\n"
   ]
  },
  {
   "cell_type": "markdown",
   "metadata": {},
   "source": [
    "# Merge DataFrames\n",
    "## Perform an inner join of the two dataframes `mtc` and `attr` below on the `monster_card` column\n",
    "The `monster_attribute.csv` file contains all the attributes for each monster card such as strength and charisma.  After performing the inner join, play around with the data and try to answer questions like which monster is the fastest or strongest.  Have fun with it."
   ]
  },
  {
   "cell_type": "code",
   "execution_count": 12,
   "metadata": {},
   "outputs": [],
   "source": [
    "attr = pd.read_csv('monster_attributes.csv')"
   ]
  },
  {
   "cell_type": "markdown",
   "metadata": {},
   "source": [
    "# DateTime\n",
    "Determine how many passengers flew in the Third Quarter of 2017?\n",
    "* Use the `AirPassengers.csv` dataset\n",
    "* Subset only dates in 1950 into a new DataFrame\n",
    "* Group new DataFrame into Quarters and aggregate the `#Passengers` column with aggregating function `sum` then sort Passengers in descending order"
   ]
  }
 ],
 "metadata": {
  "kernelspec": {
   "display_name": "Python 3",
   "language": "python",
   "name": "python3"
  },
  "language_info": {
   "codemirror_mode": {
    "name": "ipython",
    "version": 3
   },
   "file_extension": ".py",
   "mimetype": "text/x-python",
   "name": "python",
   "nbconvert_exporter": "python",
   "pygments_lexer": "ipython3",
   "version": "3.8.0"
  }
 },
 "nbformat": 4,
 "nbformat_minor": 4
}
