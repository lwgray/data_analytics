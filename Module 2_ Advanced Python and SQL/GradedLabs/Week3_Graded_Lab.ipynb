{
 "cells": [
  {
   "cell_type": "markdown",
   "metadata": {},
   "source": [
    "# Week3 Graded Lab\n",
    "Create a `sales` DataFrame from sales.csv\n",
    "1. From the `sales` DataFrame take a sample of 250 rows and assign it to the `sales1` variable\n",
    "2. From the `sales` DataFrame take a sample of 450 rows and assign it to the `sales2` variable\n",
    "3. Compare the sum of `Units` column in `sales1` versus `sales2`\n",
    "4. What is the max value in `Sales` column for both `sales1` and `sales2` DataFrames\n",
    "5. Compare the number of East values in `Region` column of both `sales1` and `sales2`\n",
    "6. Concatenate `sales1` and `sales2` DataFrames and assign it to `final_sales` variable\n",
    "7. Report the value counts from `Type` column in `final_sales` DataFrame\n",
    "8. Rename columns in `final_sales` DataFrame to Day, Area, Department, Items, Revenue\n",
    "9. How many `nan` values are in the original `sales` DataFrame versus the `final_sales` DataFrame?"
   ]
  },
  {
   "cell_type": "code",
   "execution_count": null,
   "metadata": {},
   "outputs": [],
   "source": []
  }
 ],
 "metadata": {
  "kernelspec": {
   "display_name": "Python 3",
   "language": "python",
   "name": "python3"
  },
  "language_info": {
   "codemirror_mode": {
    "name": "ipython",
    "version": 3
   },
   "file_extension": ".py",
   "mimetype": "text/x-python",
   "name": "python",
   "nbconvert_exporter": "python",
   "pygments_lexer": "ipython3",
   "version": "3.8.0"
  }
 },
 "nbformat": 4,
 "nbformat_minor": 4
}
