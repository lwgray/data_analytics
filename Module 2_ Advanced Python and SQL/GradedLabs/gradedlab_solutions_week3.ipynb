{
 "cells": [
  {
   "cell_type": "markdown",
   "metadata": {},
   "source": [
    "# Week3 Graded Lab Solutions\n",
    "Create a `sales` DataFrame from sales.csv\n",
    "1. From the `sales` DataFrame take a sample of 250 rows and assign it to the `sales1` variable\n",
    "2. From the `sales` DataFrame take a sample of 450 rows and assign it to the `sales2` variable\n",
    "3. Compare the sum of `Units` column in `sales1` versus `sales2`\n",
    "4. What is the max value in `Sales` column for both `sales1` and `sales2` DataFrames\n",
    "5. Compare the number of East values in `Region` column of both `sales1` and `sales2`\n",
    "6. Concatenate `sales1` and `sales2` DataFrames and assign it to `final_sales` variable\n",
    "7. Report the value counts from `Type` column in `final_sales` DataFrame\n",
    "8. Rename columns in `final_sales` DataFrame to Day, Area, Department, Items, Revenue\n",
    "9. How many `nan` values are in the original `sales` DataFrame versus the `final_sales` DataFrame?"
   ]
  },
  {
   "cell_type": "code",
   "execution_count": null,
   "metadata": {},
   "outputs": [],
   "source": [
    "import pandas as pd\n",
    "sales = pd.read_csv('sales.csv')"
   ]
  },
  {
   "cell_type": "code",
   "execution_count": null,
   "metadata": {},
   "outputs": [],
   "source": [
    "# 1. From the `sales` DataFrame take a sample of 250 rows and assign it to the `sales1` variable# 1. From the `sales` DataFrame take a sample of 250 rows and assign it to the `sales1` variable\n",
    "sales1 = sales.sample(250)"
   ]
  },
  {
   "cell_type": "code",
   "execution_count": null,
   "metadata": {},
   "outputs": [],
   "source": [
    "# 2. From the `sales` DataFrame take a sample of 450 rows and assign it to the `sales2` variable\n",
    "sales2 = sales.sample(450)"
   ]
  },
  {
   "cell_type": "code",
   "execution_count": null,
   "metadata": {},
   "outputs": [],
   "source": [
    "# 3. Compare the sum of `Units` column in `sales1` versus `sales2`\n",
    "\n",
    "print(sales1.Units.sum())\n",
    "\n",
    "print(sales2.Units.sum())"
   ]
  },
  {
   "cell_type": "code",
   "execution_count": null,
   "metadata": {},
   "outputs": [],
   "source": [
    "# 4. What is the max value in `Sales` column for both `sales1` and `sales2` DataFrames\n",
    "print(sales1.Sales.max(), sales2.Sales.max())"
   ]
  },
  {
   "cell_type": "code",
   "execution_count": null,
   "metadata": {},
   "outputs": [],
   "source": [
    "# 5. Compare the number of East values in `Region` column of both `sales1` and `sales2`\n",
    "print(sales1.Region.value_counts())\n",
    "\n",
    "print(sales2.Region.value_counts())"
   ]
  },
  {
   "cell_type": "code",
   "execution_count": null,
   "metadata": {},
   "outputs": [],
   "source": [
    "# 6. Concatenate `sales1` and `sales2` DataFrames and assign it to `final_sales` variable\n",
    "final_sales = pd.concat([sales1, sales2])\n",
    "final_sales.head()"
   ]
  },
  {
   "cell_type": "code",
   "execution_count": null,
   "metadata": {},
   "outputs": [],
   "source": [
    "# 7. Report the value counts from `Type` column in `final_sales` DataFrame\n",
    "\n",
    "final_sales.Type.value_counts()"
   ]
  },
  {
   "cell_type": "code",
   "execution_count": null,
   "metadata": {},
   "outputs": [],
   "source": [
    "# 8. Rename columns in `final_sales` DataFrame to Day, Area, Department, Items, Revenue\n",
    "\n",
    "final_sales.columns = ['Day', 'Area', 'Department', 'Items', 'Revenue']"
   ]
  },
  {
   "cell_type": "code",
   "execution_count": null,
   "metadata": {},
   "outputs": [],
   "source": [
    "# 9. How many `nan` values are in the original `sales` DataFrame versus the `final_sales` DataFrame?\n",
    "\n",
    "print(sales.isna().sum())\n",
    "print(final_sales.isna().sum())"
   ]
  }
 ],
 "metadata": {
  "kernelspec": {
   "display_name": "Python 3",
   "language": "python",
   "name": "python3"
  },
  "language_info": {
   "codemirror_mode": {
    "name": "ipython",
    "version": 3
   },
   "file_extension": ".py",
   "mimetype": "text/x-python",
   "name": "python",
   "nbconvert_exporter": "python",
   "pygments_lexer": "ipython3",
   "version": "3.8.0"
  }
 },
 "nbformat": 4,
 "nbformat_minor": 4
}
